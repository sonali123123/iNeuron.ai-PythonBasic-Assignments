{
 "cells": [
  {
   "cell_type": "code",
   "execution_count": null,
   "id": "85284514",
   "metadata": {},
   "outputs": [],
   "source": [
    "#Q1. What exactly is []?\n",
    "#Ans1. Empty List"
   ]
  },
  {
   "cell_type": "code",
   "execution_count": 2,
   "id": "9aeaaf70",
   "metadata": {},
   "outputs": [],
   "source": [
    "#Q2. In a list of values stored in a variable called spam, how would you assign the value \"hello\" as the third value?\n",
    "#Ans2. \n"
   ]
  },
  {
   "cell_type": "code",
   "execution_count": 5,
   "id": "ad11220c",
   "metadata": {},
   "outputs": [],
   "source": [
    "spam = [2,4,6,9,10]\n",
    "spam.insert(3,'hello')"
   ]
  },
  {
   "cell_type": "code",
   "execution_count": 6,
   "id": "0c3278a3",
   "metadata": {},
   "outputs": [
    {
     "data": {
      "text/plain": [
       "[2, 4, 6, 'hello', 9, 10]"
      ]
     },
     "execution_count": 6,
     "metadata": {},
     "output_type": "execute_result"
    }
   ],
   "source": [
    "spam"
   ]
  },
  {
   "cell_type": "code",
   "execution_count": 7,
   "id": "716f1b4b",
   "metadata": {},
   "outputs": [],
   "source": [
    "#Q3. What is the value of spam[int(int('3'*2)/11)]\n",
    "#Ans3."
   ]
  },
  {
   "cell_type": "code",
   "execution_count": 8,
   "id": "3875cf1a",
   "metadata": {},
   "outputs": [
    {
     "data": {
      "text/plain": [
       "'d'"
      ]
     },
     "execution_count": 8,
     "metadata": {},
     "output_type": "execute_result"
    }
   ],
   "source": [
    "spam = ['a','b','c','d']\n",
    "spam[int(int('3'*2)/11)]"
   ]
  },
  {
   "cell_type": "code",
   "execution_count": 9,
   "id": "594f7d82",
   "metadata": {},
   "outputs": [],
   "source": [
    "#Q4. What is the value of spam[-1]?\n",
    "#Ans4."
   ]
  },
  {
   "cell_type": "code",
   "execution_count": 11,
   "id": "560f8a6d",
   "metadata": {},
   "outputs": [
    {
     "data": {
      "text/plain": [
       "'d'"
      ]
     },
     "execution_count": 11,
     "metadata": {},
     "output_type": "execute_result"
    }
   ],
   "source": [
    "spam = ['a','b','c','d']\n",
    "spam[-1]"
   ]
  },
  {
   "cell_type": "code",
   "execution_count": 12,
   "id": "afb4a96e",
   "metadata": {},
   "outputs": [],
   "source": [
    "#Q5. What is the value of spam[::2]?\n",
    "#Ans5"
   ]
  },
  {
   "cell_type": "code",
   "execution_count": 13,
   "id": "103d34bb",
   "metadata": {},
   "outputs": [
    {
     "data": {
      "text/plain": [
       "['a', 'c']"
      ]
     },
     "execution_count": 13,
     "metadata": {},
     "output_type": "execute_result"
    }
   ],
   "source": [
    "spam = ['a','b','c','d']\n",
    "spam[::2]"
   ]
  },
  {
   "cell_type": "code",
   "execution_count": 14,
   "id": "16ae0050",
   "metadata": {},
   "outputs": [],
   "source": [
    "#Q6. What is the value of bacon.index('cat')?\n",
    "#Ans6."
   ]
  },
  {
   "cell_type": "code",
   "execution_count": 15,
   "id": "70474afd",
   "metadata": {},
   "outputs": [
    {
     "data": {
      "text/plain": [
       "1"
      ]
     },
     "execution_count": 15,
     "metadata": {},
     "output_type": "execute_result"
    }
   ],
   "source": [
    "bacon = [3.14,'cat',11,'cat','True']\n",
    "bacon.index('cat')"
   ]
  },
  {
   "cell_type": "code",
   "execution_count": 16,
   "id": "f41073a9",
   "metadata": {},
   "outputs": [],
   "source": [
    "#Q7. How does the bacon.append(99) change the look of the list value in bacon?\n",
    "#Ans7."
   ]
  },
  {
   "cell_type": "code",
   "execution_count": 17,
   "id": "60cffb48",
   "metadata": {},
   "outputs": [],
   "source": [
    "bacon = [3.14,'cat',11,'cat','True']\n",
    "bacon.append(99)"
   ]
  },
  {
   "cell_type": "code",
   "execution_count": 18,
   "id": "deae967c",
   "metadata": {},
   "outputs": [
    {
     "data": {
      "text/plain": [
       "[3.14, 'cat', 11, 'cat', 'True', 99]"
      ]
     },
     "execution_count": 18,
     "metadata": {},
     "output_type": "execute_result"
    }
   ],
   "source": [
    "bacon"
   ]
  },
  {
   "cell_type": "code",
   "execution_count": 19,
   "id": "712b1397",
   "metadata": {},
   "outputs": [],
   "source": [
    "#Q8. How does bacon.remove('cat') change the look of the list in bacon?\n",
    "#Ans8"
   ]
  },
  {
   "cell_type": "code",
   "execution_count": 20,
   "id": "444c2009",
   "metadata": {},
   "outputs": [],
   "source": [
    "bacon = [3.14,'cat',11,'cat','True']\n",
    "bacon.remove('cat')"
   ]
  },
  {
   "cell_type": "code",
   "execution_count": 21,
   "id": "9aefd3cd",
   "metadata": {},
   "outputs": [
    {
     "data": {
      "text/plain": [
       "[3.14, 11, 'cat', 'True']"
      ]
     },
     "execution_count": 21,
     "metadata": {},
     "output_type": "execute_result"
    }
   ],
   "source": [
    "bacon"
   ]
  },
  {
   "cell_type": "code",
   "execution_count": 22,
   "id": "99967346",
   "metadata": {},
   "outputs": [],
   "source": [
    "#Q9. What are the list concatenation and list replication operator?\n",
    "\n",
    "#Ans9. lIST CONCATENATION is an operation where the elements of one list are added at the end of another list.\n",
    "#      LIST REPLICATION is used to repeat a list,number of times given by integer value and create a new list values."
   ]
  },
  {
   "cell_type": "code",
   "execution_count": 23,
   "id": "799e6fd9",
   "metadata": {},
   "outputs": [],
   "source": [
    "#Q10. What is the difference between list method append() and insert()?\n",
    "\n",
    "#Ans10. append() adds a single element at the eend of list while insert() adds a single element at a given position of list."
   ]
  },
  {
   "cell_type": "code",
   "execution_count": 24,
   "id": "112abe63",
   "metadata": {},
   "outputs": [],
   "source": [
    "#Q11. What are the two method of removing item from a list?\n",
    "\n",
    "#Ans11. we can use pop() and remove() methods to remove items in list."
   ]
  },
  {
   "cell_type": "code",
   "execution_count": 1,
   "id": "c4789555",
   "metadata": {},
   "outputs": [],
   "source": [
    "#Q12. Describe how list values and strings values are identical.\n",
    "\n",
    "#Ans12. List and string both are sequences. List are similsr to strings, which are ordered collection of characters, except that\n",
    "#       the elements of list can have any type."
   ]
  },
  {
   "cell_type": "code",
   "execution_count": 2,
   "id": "0c7d9f4a",
   "metadata": {},
   "outputs": [],
   "source": [
    "#Q13.  What's the difference between lists and tuples?\n",
    "\n",
    "#Ans13.  List is a data type that is mutable and tuple is immutable."
   ]
  },
  {
   "cell_type": "code",
   "execution_count": 3,
   "id": "7930ac97",
   "metadata": {},
   "outputs": [],
   "source": [
    "#Q14.  How do you type a tuple value that only contains the integer 42?\n",
    "\n",
    "#Ans14.  t=(42)"
   ]
  },
  {
   "cell_type": "code",
   "execution_count": 4,
   "id": "2dea295c",
   "metadata": {},
   "outputs": [],
   "source": [
    "#Q15.  How do you get a list value's tuples form ? How do you get a tuple value's list form?\n",
    "\n",
    "#Ans15.  "
   ]
  },
  {
   "cell_type": "code",
   "execution_count": 8,
   "id": "61faf709",
   "metadata": {},
   "outputs": [],
   "source": [
    "# list value in tuple form\n",
    "l = [1,2,3,4,5,(30,40)]\n",
    "t1 = tuple(l)"
   ]
  },
  {
   "cell_type": "code",
   "execution_count": 9,
   "id": "51b64d25",
   "metadata": {},
   "outputs": [
    {
     "data": {
      "text/plain": [
       "(1, 2, 3, 4, 5, (30, 40))"
      ]
     },
     "execution_count": 9,
     "metadata": {},
     "output_type": "execute_result"
    }
   ],
   "source": [
    "t1"
   ]
  },
  {
   "cell_type": "code",
   "execution_count": 12,
   "id": "11e71818",
   "metadata": {},
   "outputs": [],
   "source": [
    "# tuple value in list form\n",
    "t = ('sona','rina','sonu')\n",
    "t2 = list(t)"
   ]
  },
  {
   "cell_type": "code",
   "execution_count": 14,
   "id": "fba02190",
   "metadata": {},
   "outputs": [
    {
     "data": {
      "text/plain": [
       "['sona', 'rina', 'sonu']"
      ]
     },
     "execution_count": 14,
     "metadata": {},
     "output_type": "execute_result"
    }
   ],
   "source": [
    "t2"
   ]
  },
  {
   "cell_type": "code",
   "execution_count": 24,
   "id": "3bcdb741",
   "metadata": {},
   "outputs": [],
   "source": [
    "#Q16. Variable that 'contain' list values are not necessarily list themselves.Instead, what do they contain?\n",
    " #ANS16. THEY CONTAIN LIST TYPE VALUES."
   ]
  },
  {
   "cell_type": "code",
   "execution_count": 16,
   "id": "eac34e91",
   "metadata": {},
   "outputs": [],
   "source": [
    "#Q17. How do you distinguish between copy.copy()and copy.deepcopy()?\n"
   ]
  },
  {
   "cell_type": "code",
   "execution_count": 17,
   "id": "216e46c7",
   "metadata": {},
   "outputs": [],
   "source": [
    "#Ans17. ##copy\n",
    "\n",
    "list1 = [1,2,3,4]\n",
    "list2 = list1.copy()       # copy() changes the memory location of list"
   ]
  },
  {
   "cell_type": "code",
   "execution_count": 18,
   "id": "35e05c33",
   "metadata": {},
   "outputs": [
    {
     "data": {
      "text/plain": [
       "[1, 2, 3, 4]"
      ]
     },
     "execution_count": 18,
     "metadata": {},
     "output_type": "execute_result"
    }
   ],
   "source": [
    "list2"
   ]
  },
  {
   "cell_type": "code",
   "execution_count": 21,
   "id": "6252ad7d",
   "metadata": {},
   "outputs": [],
   "source": [
    "#deep copy\n",
    "import copy\n",
    "list1 = [1,2,3,4]\n",
    "list2 = copy.deepcopy(list1)"
   ]
  },
  {
   "cell_type": "code",
   "execution_count": 22,
   "id": "772ce00e",
   "metadata": {},
   "outputs": [
    {
     "data": {
      "text/plain": [
       "[1, 2, 3, 4]"
      ]
     },
     "execution_count": 22,
     "metadata": {},
     "output_type": "execute_result"
    }
   ],
   "source": [
    "list2"
   ]
  },
  {
   "cell_type": "code",
   "execution_count": null,
   "id": "6a60d89b",
   "metadata": {},
   "outputs": [],
   "source": []
  }
 ],
 "metadata": {
  "kernelspec": {
   "display_name": "Python 3 (ipykernel)",
   "language": "python",
   "name": "python3"
  },
  "language_info": {
   "codemirror_mode": {
    "name": "ipython",
    "version": 3
   },
   "file_extension": ".py",
   "mimetype": "text/x-python",
   "name": "python",
   "nbconvert_exporter": "python",
   "pygments_lexer": "ipython3",
   "version": "3.9.12"
  }
 },
 "nbformat": 4,
 "nbformat_minor": 5
}
