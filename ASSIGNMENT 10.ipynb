{
 "cells": [
  {
   "cell_type": "code",
   "execution_count": 1,
   "id": "d77ba237",
   "metadata": {},
   "outputs": [],
   "source": [
    "#Q1. How do you distinguish between shutil.copy() and shutil.copytree()?"
   ]
  },
  {
   "cell_type": "code",
   "execution_count": null,
   "id": "9b1e240e",
   "metadata": {},
   "outputs": [],
   "source": [
    "#Ans1. The shutil.copy() method is used to copy a single file, while shutil.copytree() will copy an entire folder , along with \n",
    "#      all its content."
   ]
  },
  {
   "cell_type": "code",
   "execution_count": 2,
   "id": "d95f7512",
   "metadata": {},
   "outputs": [],
   "source": [
    "#Q2. What function is used to rename files?"
   ]
  },
  {
   "cell_type": "code",
   "execution_count": null,
   "id": "1bd7d6e0",
   "metadata": {},
   "outputs": [],
   "source": [
    "#Ans2. The shutil.move() is used to rename files , as well as moving them."
   ]
  },
  {
   "cell_type": "code",
   "execution_count": 3,
   "id": "1cce9e02",
   "metadata": {},
   "outputs": [],
   "source": [
    "#Q3. What is the difference between the delete function in the send2trash and shutil modules?"
   ]
  },
  {
   "cell_type": "code",
   "execution_count": null,
   "id": "b73ed52f",
   "metadata": {},
   "outputs": [],
   "source": [
    "#Ans3. The send2trash functions will move a file or folder to the recycle bin , while shutil functions will permanently delete\n",
    "#      files and folders."
   ]
  },
  {
   "cell_type": "code",
   "execution_count": 4,
   "id": "5d670040",
   "metadata": {},
   "outputs": [],
   "source": [
    "#Q4. ZipFile objects have a close() method just  like File object's close() method.What ZipFile method is equivalent to File \n",
    "#    objects' open() method?"
   ]
  },
  {
   "cell_type": "code",
   "execution_count": null,
   "id": "b7411fa8",
   "metadata": {},
   "outputs": [],
   "source": [
    "#Ans4. The zipfile.zipFile() function is equivalent to the open() function; the first argument is the filename , and the second\n",
    "#      argument is the mode to open the ZIP file in (read,write,or append)."
   ]
  },
  {
   "cell_type": "code",
   "execution_count": 1,
   "id": "8048cd53",
   "metadata": {},
   "outputs": [],
   "source": [
    "#Q5. Create  a programm that searches a folder tree for files wih a certain file extension(such as.pdf or.jpg)Copy these files \n",
    "#    from whatever location they are in two folder"
   ]
  },
  {
   "cell_type": "code",
   "execution_count": 2,
   "id": "3d6c48e7",
   "metadata": {},
   "outputs": [
    {
     "name": "stdout",
     "output_type": "stream",
     "text": [
      "Looking in C:\\Users\\Sonali Thakur\\randomFolder for files with extensions of  .php, .py\n"
     ]
    }
   ],
   "source": [
    "#Ans5. \n",
    "import os , shutil\n",
    "def selectiveCopy(folder,extensions,destFolder):\n",
    "    folder = os.path.abspath(folder)\n",
    "    destFolder = os.path.abspath(destFolder)\n",
    "    print('Looking in', folder , 'for files with extensions of', ','.join(extensions))\n",
    "    for foldername,subfolders,filenames in os.walk(folder):\n",
    "        for filename in filenames:\n",
    "            name,extension = os.path.splitext(filename)\n",
    "            if extension in extensions:\n",
    "                fileAbsPath = foldername + os.path.sep + filename\n",
    "                print('Copying', fileAbsPath,'to',destFolder)\n",
    "                shutil.copy(fileAbsPath,destFolder)\n",
    "extensions = [' .php' , ' .py']\n",
    "folder = 'randomFolder'\n",
    "destFolder = 'selectiveFolder'\n",
    "selectiveCopy(folder,extensions,destFolder)\n",
    "        "
   ]
  }
 ],
 "metadata": {
  "kernelspec": {
   "display_name": "Python 3 (ipykernel)",
   "language": "python",
   "name": "python3"
  },
  "language_info": {
   "codemirror_mode": {
    "name": "ipython",
    "version": 3
   },
   "file_extension": ".py",
   "mimetype": "text/x-python",
   "name": "python",
   "nbconvert_exporter": "python",
   "pygments_lexer": "ipython3",
   "version": "3.9.12"
  }
 },
 "nbformat": 4,
 "nbformat_minor": 5
}
