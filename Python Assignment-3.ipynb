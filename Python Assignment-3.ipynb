{
 "cells": [
  {
   "cell_type": "code",
   "execution_count": 1,
   "id": "234c5158",
   "metadata": {},
   "outputs": [],
   "source": [
    "#Q1. Why are functions advantageous to have in your programs?\n",
    "\n",
    "#Ans1. Functions reduce the need of duplicate code. This makes programs shorter,easier to read,and easier to update."
   ]
  },
  {
   "cell_type": "code",
   "execution_count": 2,
   "id": "57cd2d70",
   "metadata": {},
   "outputs": [],
   "source": [
    "#Q2. When does the code in a function run; when it's specified or when it's called?\n",
    "\n",
    "#Ans1. The code in a function run when it's called not when it's specified."
   ]
  },
  {
   "cell_type": "code",
   "execution_count": 3,
   "id": "18f79a1b",
   "metadata": {},
   "outputs": [],
   "source": [
    "#Q3. What statement creates a function?\n",
    "\n",
    "#Ans3. The def function creates a function."
   ]
  },
  {
   "cell_type": "code",
   "execution_count": 4,
   "id": "dea7e8af",
   "metadata": {},
   "outputs": [],
   "source": [
    "#Q4. What is the difference between a function and a function call?\n",
    "\n",
    "#Ans4. A function consist of def statement and the code in it's def clause.\n",
    "#      A function calll is what moves the program execution into the function, and it evaluates to the function return value."
   ]
  },
  {
   "cell_type": "code",
   "execution_count": 5,
   "id": "256edce8",
   "metadata": {},
   "outputs": [],
   "source": [
    "#Q5. How many global scopes are there in a python program?How many loocal scopes?\n",
    "\n",
    "#Ans5. There is one global scopes, and a local scope is created whenever a function is called."
   ]
  },
  {
   "cell_type": "code",
   "execution_count": 6,
   "id": "b5299e4d",
   "metadata": {},
   "outputs": [],
   "source": [
    "#Q6. What happens to variables in a local scope when the function call returns?\n",
    "\n",
    "#Ans6. When a function returns, the local scope is destroyed, and all the variables in it are forgotten."
   ]
  },
  {
   "cell_type": "code",
   "execution_count": 7,
   "id": "cad45981",
   "metadata": {},
   "outputs": [],
   "source": [
    "#Q7. What is the concept of return value? Is it possible to have a return value in an expression?\n",
    "\n",
    "#Ans7. A return value is value that a function call evaluates to.Yes, it is possible to have a return value in an expression."
   ]
  },
  {
   "cell_type": "code",
   "execution_count": 8,
   "id": "ed44b512",
   "metadata": {},
   "outputs": [],
   "source": [
    "#Q8. If a function does not have a return statement,what is the return value of a call to that function?\n",
    "\n",
    "#Ans8. It's return value is  none."
   ]
  },
  {
   "cell_type": "code",
   "execution_count": 9,
   "id": "515f7976",
   "metadata": {},
   "outputs": [],
   "source": [
    "#Q9. How do you make a function variable refer to the global variable?\n",
    "\n",
    "#Ans9. A global statement will force a variable in a  function to refer to the global variable."
   ]
  },
  {
   "cell_type": "code",
   "execution_count": 10,
   "id": "571193a2",
   "metadata": {},
   "outputs": [],
   "source": [
    "#Q10. What is the data type of none?\n",
    "\n",
    "#Ans10. None Type."
   ]
  },
  {
   "cell_type": "code",
   "execution_count": 11,
   "id": "6f8d6cdf",
   "metadata": {},
   "outputs": [],
   "source": [
    "#Q11. What does the sentence import areallyourpetsnamederic do?\n",
    "\n",
    "#Ans11. The import statement imports a module named areallyourpetsnamederic."
   ]
  },
  {
   "cell_type": "code",
   "execution_count": 12,
   "id": "dccc79e0",
   "metadata": {},
   "outputs": [],
   "source": [
    "#Q12. If you had a bacon() feature in a spam module, what would you call it after importing spam?\n",
    "\n",
    "#Ans12. The function can be called with spam.bacon()"
   ]
  },
  {
   "cell_type": "code",
   "execution_count": 13,
   "id": "d686c1ff",
   "metadata": {},
   "outputs": [],
   "source": [
    "#Q13. What can you do to save a programme from crashing if it encounters an error?\n",
    "\n",
    "#Ans13.  Place the line of code in try clause."
   ]
  },
  {
   "cell_type": "code",
   "execution_count": null,
   "id": "500e0089",
   "metadata": {},
   "outputs": [],
   "source": [
    "#Q14. What is the purpose of try clause? What is the purpose of except clause?\n",
    "\n",
    "#Ans14. The code that could potentially cause an error goes in try clause.\n",
    "#       The code that executes if an error happen goes in the except clause."
   ]
  }
 ],
 "metadata": {
  "kernelspec": {
   "display_name": "Python 3 (ipykernel)",
   "language": "python",
   "name": "python3"
  },
  "language_info": {
   "codemirror_mode": {
    "name": "ipython",
    "version": 3
   },
   "file_extension": ".py",
   "mimetype": "text/x-python",
   "name": "python",
   "nbconvert_exporter": "python",
   "pygments_lexer": "ipython3",
   "version": "3.9.12"
  }
 },
 "nbformat": 4,
 "nbformat_minor": 5
}
