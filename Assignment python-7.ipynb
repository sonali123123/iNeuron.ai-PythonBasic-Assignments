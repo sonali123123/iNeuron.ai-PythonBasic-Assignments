{
 "cells": [
  {
   "cell_type": "code",
   "execution_count": 1,
   "id": "65305739",
   "metadata": {},
   "outputs": [],
   "source": [
    "#Q1. What is the name of the feature that is responsible for generating Regex objects?\n",
    "\n",
    "#Ans1. The re.compile() function returns Regex  objects."
   ]
  },
  {
   "cell_type": "code",
   "execution_count": 22,
   "id": "6485ea1d",
   "metadata": {},
   "outputs": [],
   "source": [
    "#Q2. Why do raw strings often appear in Regex objects?\n",
    "\n",
    "#Ans2. Raw strings are used so that backslashes do not have to be escaped.\n",
    "\n",
    "#Q3. What is the return value of the search() method?\n",
    "\n",
    "#Ans3. The search() method returns the  Match objects."
   ]
  },
  {
   "cell_type": "code",
   "execution_count": 3,
   "id": "b9995797",
   "metadata": {},
   "outputs": [],
   "source": [
    "#Q4. From a Match item, how do you get the actual strings that match the pattern? \n",
    "\n",
    "#Ans4. The group() methods returns the strings of the matched text. "
   ]
  },
  {
   "cell_type": "code",
   "execution_count": 4,
   "id": "f1c8ef51",
   "metadata": {},
   "outputs": [],
   "source": [
    "#Q5. In the regex created from the r'(\\d\\d\\d)-(\\d\\d\\d)-(\\d\\d\\d)',what does group zero cover?Gropu2?Group1?\n",
    "\n",
    "#Ans5. Grop 0 is  the entire match,group1 covers the first set of parentheses,andd group2 covers the second set of parentheses."
   ]
  },
  {
   "cell_type": "code",
   "execution_count": 23,
   "id": "7637615d",
   "metadata": {},
   "outputs": [],
   "source": [
    "#Q6. In standard expressions syntax,parentheses and intervals have distinct meanings.How can you tell a regex that you want it  \n",
    "#    to fit real parentheses and periods ?\n",
    "\n",
    "#Ans6.  Periods  and parentheses can be escaped  withh a backslash:(\\,\\9,and\\)"
   ]
  },
  {
   "cell_type": "code",
   "execution_count": 24,
   "id": "822deb3e",
   "metadata": {},
   "outputs": [],
   "source": [
    "#Q7. The findal() method returns a string list or a list  of string tuples.What causes it to return one of the two options? \n",
    "\n",
    "#Ans7. If the regex has no groups , all of strings is returned.If the regex has groups ,a list of tuples of strings is returned."
   ]
  },
  {
   "cell_type": "code",
   "execution_count": 7,
   "id": "e9195dd3",
   "metadata": {},
   "outputs": [],
   "source": [
    "#Q8. In standard expressions,what  does the | character mean?\n",
    "\n",
    "#Ans8. The | character signifies matching \"either,or\" between groups."
   ]
  },
  {
   "cell_type": "code",
   "execution_count": 8,
   "id": "76a47320",
   "metadata": {},
   "outputs": [],
   "source": [
    "#Q9. In regular expressions,what does the character stand for?\n",
    "\n",
    "#Ans9. which character?not mentioned."
   ]
  },
  {
   "cell_type": "code",
   "execution_count": 9,
   "id": "a9bed46e",
   "metadata": {},
   "outputs": [],
   "source": [
    "#Q10. In regular  expressions,what is the difference between the + and * characters?\n",
    "\n",
    "#Ans10. The + matches  one or moore and * matches zero or more."
   ]
  },
  {
   "cell_type": "code",
   "execution_count": 10,
   "id": "bb0c136d",
   "metadata": {},
   "outputs": [],
   "source": [
    "#Q11. What is the differene between {4} and {4,5} in regular expressions?\n",
    "\n",
    "#Ans11. The {4} matches exactly three instances  of the precceding group.The {4,5} matches between four and five instances."
   ]
  },
  {
   "cell_type": "code",
   "execution_count": 13,
   "id": "63ae6611",
   "metadata": {},
   "outputs": [],
   "source": [
    "#Q12. What do you mean by the \\d,\\w,and \\s shorthand character claases signify in regular expressions?\n",
    "\n",
    "#Ans12. The \\d,\\w,and\\s shorthand character classes matches a single digit,word,or space character,respectively."
   ]
  },
  {
   "cell_type": "code",
   "execution_count": 12,
   "id": "4251c20c",
   "metadata": {},
   "outputs": [],
   "source": [
    "#Q13. What do you means by\\D,\\W, and\\S shorthand character classes signify in regullar expressions?\n",
    "\n",
    "#Ans13. The\\D,\\W,or\\S shorthand character classes match a single character that is not a digit,word,or space character,respectively."
   ]
  },
  {
   "cell_type": "code",
   "execution_count": 14,
   "id": "f4dd968f",
   "metadata": {},
   "outputs": [],
   "source": [
    "#Q14. What is the difference between .*? and.*\n",
    "\n",
    "#Ans14. The .* performs a  greedy match,and the .*? performs a non greedy  match."
   ]
  },
  {
   "cell_type": "code",
   "execution_count": 15,
   "id": "cbdf9bb0",
   "metadata": {},
   "outputs": [],
   "source": [
    "#Q15. What is the  syntax  for matcching both numbers and lowercase  letters with a character  class?\n",
    "\n",
    "#Ans15. Either[0-9a-z] or[a-z0-9]"
   ]
  },
  {
   "cell_type": "code",
   "execution_count": 16,
   "id": "50034367",
   "metadata": {},
   "outputs": [],
   "source": [
    "#Q16. What is the procedure for making a normal expressions inn regax case inssensitive?\n",
    "\n",
    "#Ans16. Passing re.I or re.IGNORECCASE as the second argument to re.compile() will make the matching case insensitive."
   ]
  },
  {
   "cell_type": "code",
   "execution_count": 17,
   "id": "0cef07e8",
   "metadata": {},
   "outputs": [],
   "source": [
    "#Q17. What does the .character normally match? What  does it mean if re.DOTALL is possed as 2nd argument in re.compile()? \n",
    "\n",
    "#Ans17. The character normally matches any character except the newline character.If re.DOTALLL is passed as the second\n",
    "#       argument to re.compile(),then the dot will also match the newline characters."
   ]
  },
  {
   "cell_type": "code",
   "execution_count": 18,
   "id": "2c243f21",
   "metadata": {},
   "outputs": [],
   "source": [
    "#Q18. If numReg=compile(r'\\d+'),what will numRegex.sub('X','11 drummers,10pipers,five rings,4hen')return\n",
    "\n",
    "#Ans18. 'X drummers,X pipers,five rings,Xhens'"
   ]
  },
  {
   "cell_type": "code",
   "execution_count": 19,
   "id": "61655a05",
   "metadata": {},
   "outputs": [],
   "source": [
    "#Q19. What does passing re.VERBOSE as  the 2nd argumment to re.compile() allow to do?\n",
    "\n",
    "#Ans19. The re.VERBOSE  arguments allow you to add whitespace and comments to the  striings passed to re.commpile()"
   ]
  },
  {
   "cell_type": "code",
   "execution_count": 20,
   "id": "8bae894a",
   "metadata": {},
   "outputs": [],
   "source": [
    "#Q20. How do you write a regex that a number with comma for every three digits?It must match the given following:\n",
    "#     '42'\n",
    "#     '1,234'\n",
    "#     '6,368,745'\n",
    "#     but not the following:\n",
    "#     '12,34,567'(which has only digit between the commas)\n",
    "#     '1234'(which lacks commas)\n",
    "\n",
    "\n",
    "\n",
    "#Ans20. e.compiler(r'^\\d{1,3}(,{3})*$')will create  this regex,but other regex strings can produce a similar regular expressions."
   ]
  },
  {
   "cell_type": "code",
   "execution_count": 21,
   "id": "99f5a1fe",
   "metadata": {},
   "outputs": [],
   "source": [
    "#Q21. How wpuld you write a regex that matches the full nname of someone whose  last name is Watanabe?You can assume the first \n",
    "#     name that comes before it will always be one word that begins with a capital letter.The regex must match the following:\n",
    "#     'Haruto Watanabe'\n",
    "#     'Robocop Wantanbae'\n",
    "#      bout not the following:\n",
    "#      'haruto Wantanbae'(where the first name is not capitalize)\n",
    "#      'Mr. Wantanbae'(where the preceding word has a nonleytter character)\n",
    "#      'Wantanbae'(which has no first  name)\n",
    "#      'Haruto wantanbae'(where Wantanbae is not capitalize)\n",
    "\n",
    "\n",
    "\n",
    "#Ans21.  re.compiler(r'[A-Z][a-z]*\\sWantanbae')"
   ]
  },
  {
   "cell_type": "code",
   "execution_count": null,
   "id": "b641ba97",
   "metadata": {},
   "outputs": [],
   "source": [
    "#Q22. How would you write a regex that matches a sentence where the first word is either Alice,Bob or Carol;the second word is \n",
    "#     either eats,pets,or throws;the third word is apples,cats,or baseballs;and the sentence ends with a period?This regex \n",
    "#     should be case-insensitive.It must match the following:\n",
    "#     'Alice eats apples.'\n",
    "#     'Bob pets cats.'\n",
    "#     'Carol throws baseballs.'\n",
    "#      'Alice throws Apples.'\n",
    "#     'BOB EATS CATS.'\n",
    "#     but not the following:\n",
    "#     'RoboCop eats appples.'\n",
    "#      'ALICE THROWS  FOOTBALLS.'\n",
    "#      'Carol eats 7 cats.'\n",
    "\n",
    "\n",
    "#Ans22. re.compiler(r'(Alice|Bob|Carol)\\s(eats|pets|throws)\\\n",
    "#       s\\(apples|cats|baseballs)\\.',\n",
    "#       re.IGNORECASE)"
   ]
  }
 ],
 "metadata": {
  "kernelspec": {
   "display_name": "Python 3 (ipykernel)",
   "language": "python",
   "name": "python3"
  },
  "language_info": {
   "codemirror_mode": {
    "name": "ipython",
    "version": 3
   },
   "file_extension": ".py",
   "mimetype": "text/x-python",
   "name": "python",
   "nbconvert_exporter": "python",
   "pygments_lexer": "ipython3",
   "version": "3.9.12"
  }
 },
 "nbformat": 4,
 "nbformat_minor": 5
}
