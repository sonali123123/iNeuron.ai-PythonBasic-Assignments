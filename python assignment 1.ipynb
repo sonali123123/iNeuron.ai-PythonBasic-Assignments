{
 "cells": [
  {
   "cell_type": "code",
   "execution_count": null,
   "id": "e73a3176",
   "metadata": {},
   "outputs": [],
   "source": [
    "ANS1. * = expression\n",
    "      'hello' = values\n",
    "      -87.8 = values\n",
    "        -   = expression\n",
    "        /   = expression\n",
    "        +  = expression\n",
    "        6  = values\n",
    "        \n",
    "        \n",
    "ANS2. A Variable is a store where we can store the data types like integers, boolean , strings etc. whereas String is a \n",
    "      data type where we can store the values which are enclosed in any type of quotes.\n",
    "    \n",
    "ANS3. THREE Different type of DATA TYPES are:\n",
    "      a. NUMBERS(integers,floating numbers, complex numbers)\n",
    "      b. STRINGS(can hold any valid value into a set of quotation marks)\n",
    "      c. LIST ( represents a list of comma- separated value of any data type between a square bracket)\n",
    "        \n",
    "ANS4.  An expression is a combination of symbols . \n",
    "       The python evluates it into a end result value.\n",
    "    \n",
    "ANS5.  An expression evaluates a value whereas Statement executes and may or may not yield value.\n",
    "\n",
    "ANS6.  23\n",
    "\n",
    "ANS7. same value: 'spamspamspam' \n",
    "    \n",
    "ANS8.  Eggs is a valid variable name because it is defined and we can assign any data type into it whereas 100 is invalid \n",
    "       because it is itself an integer data type. \n",
    "    \n",
    "ANS9.  The Functions are:\n",
    "     a. int()\n",
    "     b. float()\n",
    "     c. str()\n",
    "        \n",
    "ANS10.  'I have eaten' + 99 + 'burriots'\n",
    "        We can fix the error by \n",
    "         'I have eaten' + '99' + 'burriots'\n",
    "      "
   ]
  }
 ],
 "metadata": {
  "kernelspec": {
   "display_name": "Python 3 (ipykernel)",
   "language": "python",
   "name": "python3"
  },
  "language_info": {
   "codemirror_mode": {
    "name": "ipython",
    "version": 3
   },
   "file_extension": ".py",
   "mimetype": "text/x-python",
   "name": "python",
   "nbconvert_exporter": "python",
   "pygments_lexer": "ipython3",
   "version": "3.9.12"
  }
 },
 "nbformat": 4,
 "nbformat_minor": 5
}
