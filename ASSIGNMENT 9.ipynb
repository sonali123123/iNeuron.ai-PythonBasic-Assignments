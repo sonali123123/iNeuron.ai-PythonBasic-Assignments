{
 "cells": [
  {
   "cell_type": "code",
   "execution_count": 1,
   "id": "eae16108",
   "metadata": {},
   "outputs": [],
   "source": [
    "#Q1. TO WHAT DOES A RELATIVE PATH REFER ?"
   ]
  },
  {
   "cell_type": "code",
   "execution_count": 2,
   "id": "f68229fd",
   "metadata": {},
   "outputs": [],
   "source": [
    "#Ans1. A relative path refers to a location of a file or folder is relative to the current woorking directory."
   ]
  },
  {
   "cell_type": "code",
   "execution_count": 3,
   "id": "56af72a8",
   "metadata": {},
   "outputs": [],
   "source": [
    "#Q2. Where does absolute path start with your Operating System ?  "
   ]
  },
  {
   "cell_type": "code",
   "execution_count": 4,
   "id": "cf9f11b1",
   "metadata": {},
   "outputs": [],
   "source": [
    "#Ans2. In windows operating system absolute path starts with C: whereas in Linux operating system absolute path starts with /."
   ]
  },
  {
   "cell_type": "code",
   "execution_count": 5,
   "id": "31bf9987",
   "metadata": {},
   "outputs": [],
   "source": [
    "#Q3. What does the function os.getcwd() and os.chdir() do ?"
   ]
  },
  {
   "cell_type": "code",
   "execution_count": 6,
   "id": "640d4aca",
   "metadata": {},
   "outputs": [],
   "source": [
    "#Ans3. os.getcwd() function tells us the location of current working directory(CWD) and os.chidr() function changes the current\n",
    "#      working directory to specfied path."
   ]
  },
  {
   "cell_type": "code",
   "execution_count": 8,
   "id": "1073a958",
   "metadata": {},
   "outputs": [
    {
     "name": "stdout",
     "output_type": "stream",
     "text": [
      "C:\\Users\\Sonali Thakur\n"
     ]
    }
   ],
   "source": [
    "import os\n",
    "print(os.getcwd())"
   ]
  },
  {
   "cell_type": "code",
   "execution_count": 10,
   "id": "6eaedee5",
   "metadata": {},
   "outputs": [
    {
     "name": "stdout",
     "output_type": "stream",
     "text": [
      "C:\\Users\\Sonali Thakur\n",
      "C:\\Users\\Sonali Thakur\n"
     ]
    }
   ],
   "source": [
    "import os\n",
    "print(os.getcwd())\n",
    "path = r'C:\\Users\\Sonali Thakur'\n",
    "os.chdir(path)\n",
    "print(os.getcwd())"
   ]
  },
  {
   "cell_type": "code",
   "execution_count": 7,
   "id": "1ab4d330",
   "metadata": {},
   "outputs": [],
   "source": [
    "#Q4. What are . and .. folders?"
   ]
  },
  {
   "cell_type": "code",
   "execution_count": 11,
   "id": "e1a47f9b",
   "metadata": {},
   "outputs": [],
   "source": [
    "#Ans4. .represent current directory and .. represent the parent directory of the current directory."
   ]
  },
  {
   "cell_type": "code",
   "execution_count": 12,
   "id": "88d02f02",
   "metadata": {},
   "outputs": [],
   "source": [
    "#Q5. In C:\\bacon\\eggs\\spam.txt which part is the dir name and which part is the base name?"
   ]
  },
  {
   "cell_type": "code",
   "execution_count": 13,
   "id": "3b63e5a3",
   "metadata": {},
   "outputs": [],
   "source": [
    "#Ans5. Directory name : C:\\bacon\\eggs\n",
    "#      Base name : spam.txt\n"
   ]
  },
  {
   "cell_type": "code",
   "execution_count": 15,
   "id": "42cb8437",
   "metadata": {},
   "outputs": [
    {
     "name": "stdout",
     "output_type": "stream",
     "text": [
      "C:\\bacon\\eggs\n",
      "spame.txt\n"
     ]
    }
   ],
   "source": [
    "import os\n",
    "path = r'C:\\bacon\\eggs\\spame.txt'\n",
    "print(os.path.dirname(path))\n",
    "print(os.path.basename(path))"
   ]
  },
  {
   "cell_type": "code",
   "execution_count": 16,
   "id": "3df018b8",
   "metadata": {},
   "outputs": [],
   "source": [
    "#Q6. What are the three mode arguments that can be passed to open() function?"
   ]
  },
  {
   "cell_type": "code",
   "execution_count": 17,
   "id": "242b09ba",
   "metadata": {},
   "outputs": [],
   "source": [
    "#Ans6. open() function takes two argument filename and mode of operation . If the mode is not provided then the default mode is \n",
    "#      Read mode.\n",
    "#      The mode arguments are :\n",
    "#      1. 'r': (Read mode) - the file is opened and the pointer is positioned at the begining of the file's content. \n",
    "#      2. 'w':(Write Mode) - This mode overwrite any existing content in the file.If the file not exist then new file created.\n",
    "#      3. 'a':(append mode) - Using this data users can append the data without overwriting the original file."
   ]
  },
  {
   "cell_type": "code",
   "execution_count": 18,
   "id": "c61b99ec",
   "metadata": {},
   "outputs": [],
   "source": [
    "#Q7. What happens if an existing file is opened in write mode?"
   ]
  },
  {
   "cell_type": "code",
   "execution_count": 19,
   "id": "b4a1e928",
   "metadata": {},
   "outputs": [],
   "source": [
    "#Ans7. This mode overwrite any existing content in the file.If the file not exist then the new file is created."
   ]
  },
  {
   "cell_type": "code",
   "execution_count": 20,
   "id": "6ab28249",
   "metadata": {},
   "outputs": [],
   "source": [
    "#Q8. How do you tell the difference between read() and readline()?"
   ]
  },
  {
   "cell_type": "code",
   "execution_count": 21,
   "id": "74075f0e",
   "metadata": {},
   "outputs": [],
   "source": [
    "#Ans8. The main differneces is that read() will read the whole file at once and then print out the first characters that take up\n",
    "#      as many bytes as you specify in the paranthesis while the readline() will read and print only the first character that \n",
    "#      takes up as many bytes as you specify in the paranthesis. We are using readline() when you're reading files that are too \n",
    "#      big for your RAM."
   ]
  },
  {
   "cell_type": "code",
   "execution_count": 22,
   "id": "16709d1d",
   "metadata": {},
   "outputs": [],
   "source": [
    "#Q9. What data  structures does a shelf value resemble?"
   ]
  },
  {
   "cell_type": "code",
   "execution_count": null,
   "id": "d78ad980",
   "metadata": {},
   "outputs": [],
   "source": [
    "#Ans9. A shelf value resemble a dictionary value ; it has keys and values, along with keys() and values() methods that work \n",
    "#      similarly to the dictionary method of the same name."
   ]
  }
 ],
 "metadata": {
  "kernelspec": {
   "display_name": "Python 3 (ipykernel)",
   "language": "python",
   "name": "python3"
  },
  "language_info": {
   "codemirror_mode": {
    "name": "ipython",
    "version": 3
   },
   "file_extension": ".py",
   "mimetype": "text/x-python",
   "name": "python",
   "nbconvert_exporter": "python",
   "pygments_lexer": "ipython3",
   "version": "3.9.12"
  }
 },
 "nbformat": 4,
 "nbformat_minor": 5
}
