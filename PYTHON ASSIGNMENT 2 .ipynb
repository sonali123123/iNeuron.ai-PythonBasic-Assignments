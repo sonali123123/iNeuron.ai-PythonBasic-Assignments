{
 "cells": [
  {
   "cell_type": "code",
   "execution_count": 4,
   "id": "45487533",
   "metadata": {},
   "outputs": [],
   "source": [
    "#Q1.What are the two values of the boolean data type? How do you write them\n",
    "\n",
    "#Ans1. The two values are : False and True . The boolean values True and False behaves like the values 0 and 1. \n",
    "#   For Example;\n",
    "    "
   ]
  },
  {
   "cell_type": "code",
   "execution_count": 5,
   "id": "61080a37",
   "metadata": {},
   "outputs": [
    {
     "data": {
      "text/plain": [
       "False"
      ]
     },
     "execution_count": 5,
     "metadata": {},
     "output_type": "execute_result"
    }
   ],
   "source": [
    "bool(0)"
   ]
  },
  {
   "cell_type": "code",
   "execution_count": 6,
   "id": "93f3b005",
   "metadata": {},
   "outputs": [
    {
     "data": {
      "text/plain": [
       "True"
      ]
     },
     "execution_count": 6,
     "metadata": {},
     "output_type": "execute_result"
    }
   ],
   "source": [
    "bool(1)"
   ]
  },
  {
   "cell_type": "code",
   "execution_count": 8,
   "id": "03b94fa7",
   "metadata": {},
   "outputs": [],
   "source": [
    "#Q2. What are the three different types of boolean operators?\n",
    "#Ans2. Three different types of boolean operators are: AND , OR , NOT"
   ]
  },
  {
   "cell_type": "code",
   "execution_count": 10,
   "id": "f66f3295",
   "metadata": {},
   "outputs": [],
   "source": [
    "#3.Make a list of each Boolean operator's truth tables(i.e.every possible combination of Boolean values for the operator and \n",
    "#what it evaluates)\n",
    "\n",
    " \n",
    "#AND OPERATOR    "
   ]
  },
  {
   "cell_type": "code",
   "execution_count": 11,
   "id": "11722346",
   "metadata": {},
   "outputs": [
    {
     "data": {
      "text/plain": [
       "False"
      ]
     },
     "execution_count": 11,
     "metadata": {},
     "output_type": "execute_result"
    }
   ],
   "source": [
    "x=False\n",
    "y=False\n",
    "x and y"
   ]
  },
  {
   "cell_type": "code",
   "execution_count": 12,
   "id": "7cab5d71",
   "metadata": {},
   "outputs": [
    {
     "data": {
      "text/plain": [
       "False"
      ]
     },
     "execution_count": 12,
     "metadata": {},
     "output_type": "execute_result"
    }
   ],
   "source": [
    "x=False\n",
    "y=True\n",
    "x and y"
   ]
  },
  {
   "cell_type": "code",
   "execution_count": 13,
   "id": "634f168e",
   "metadata": {},
   "outputs": [
    {
     "data": {
      "text/plain": [
       "False"
      ]
     },
     "execution_count": 13,
     "metadata": {},
     "output_type": "execute_result"
    }
   ],
   "source": [
    "x=True\n",
    "y=False\n",
    "x and y"
   ]
  },
  {
   "cell_type": "code",
   "execution_count": 14,
   "id": "5ebfed40",
   "metadata": {},
   "outputs": [
    {
     "data": {
      "text/plain": [
       "True"
      ]
     },
     "execution_count": 14,
     "metadata": {},
     "output_type": "execute_result"
    }
   ],
   "source": [
    "x=True\n",
    "y=True\n",
    "x and y"
   ]
  },
  {
   "cell_type": "code",
   "execution_count": 15,
   "id": "b7280aae",
   "metadata": {},
   "outputs": [
    {
     "data": {
      "text/plain": [
       "False"
      ]
     },
     "execution_count": 15,
     "metadata": {},
     "output_type": "execute_result"
    }
   ],
   "source": [
    "#OR OPERATOR\n",
    "x=False\n",
    "y=False\n",
    "x or y"
   ]
  },
  {
   "cell_type": "code",
   "execution_count": 16,
   "id": "0c511b8f",
   "metadata": {},
   "outputs": [
    {
     "data": {
      "text/plain": [
       "True"
      ]
     },
     "execution_count": 16,
     "metadata": {},
     "output_type": "execute_result"
    }
   ],
   "source": [
    "x=False\n",
    "y=True\n",
    "x or y"
   ]
  },
  {
   "cell_type": "code",
   "execution_count": 17,
   "id": "7b644c23",
   "metadata": {},
   "outputs": [
    {
     "data": {
      "text/plain": [
       "True"
      ]
     },
     "execution_count": 17,
     "metadata": {},
     "output_type": "execute_result"
    }
   ],
   "source": [
    "x=True\n",
    "y=False\n",
    "x or y"
   ]
  },
  {
   "cell_type": "code",
   "execution_count": 18,
   "id": "3f5be154",
   "metadata": {},
   "outputs": [
    {
     "data": {
      "text/plain": [
       "True"
      ]
     },
     "execution_count": 18,
     "metadata": {},
     "output_type": "execute_result"
    }
   ],
   "source": [
    "x=True\n",
    "y=True\n",
    "x or y"
   ]
  },
  {
   "cell_type": "code",
   "execution_count": 19,
   "id": "7398099e",
   "metadata": {},
   "outputs": [
    {
     "data": {
      "text/plain": [
       "False"
      ]
     },
     "execution_count": 19,
     "metadata": {},
     "output_type": "execute_result"
    }
   ],
   "source": [
    "#NOT OPERATOR\n",
    "x=True\n",
    "not x"
   ]
  },
  {
   "cell_type": "code",
   "execution_count": 20,
   "id": "e0806787",
   "metadata": {},
   "outputs": [
    {
     "data": {
      "text/plain": [
       "True"
      ]
     },
     "execution_count": 20,
     "metadata": {},
     "output_type": "execute_result"
    }
   ],
   "source": [
    "y=False\n",
    "not y"
   ]
  },
  {
   "cell_type": "code",
   "execution_count": 21,
   "id": "0da7dad9",
   "metadata": {},
   "outputs": [],
   "source": [
    "# 4. What are the values of the  following expressions?\n",
    "# Ans4."
   ]
  },
  {
   "cell_type": "code",
   "execution_count": 22,
   "id": "886fc656",
   "metadata": {},
   "outputs": [
    {
     "data": {
      "text/plain": [
       "False"
      ]
     },
     "execution_count": 22,
     "metadata": {},
     "output_type": "execute_result"
    }
   ],
   "source": [
    "(5>4) and (3==5)"
   ]
  },
  {
   "cell_type": "code",
   "execution_count": 23,
   "id": "350a317f",
   "metadata": {},
   "outputs": [
    {
     "data": {
      "text/plain": [
       "False"
      ]
     },
     "execution_count": 23,
     "metadata": {},
     "output_type": "execute_result"
    }
   ],
   "source": [
    "not(5>4)"
   ]
  },
  {
   "cell_type": "code",
   "execution_count": 24,
   "id": "80a99ddf",
   "metadata": {},
   "outputs": [
    {
     "data": {
      "text/plain": [
       "False"
      ]
     },
     "execution_count": 24,
     "metadata": {},
     "output_type": "execute_result"
    }
   ],
   "source": [
    "not((5>4) or (3==5))"
   ]
  },
  {
   "cell_type": "code",
   "execution_count": 25,
   "id": "a4cfe0c1",
   "metadata": {},
   "outputs": [
    {
     "data": {
      "text/plain": [
       "False"
      ]
     },
     "execution_count": 25,
     "metadata": {},
     "output_type": "execute_result"
    }
   ],
   "source": [
    "(True and True) and(True == False)"
   ]
  },
  {
   "cell_type": "code",
   "execution_count": 26,
   "id": "715bd775",
   "metadata": {},
   "outputs": [
    {
     "data": {
      "text/plain": [
       "True"
      ]
     },
     "execution_count": 26,
     "metadata": {},
     "output_type": "execute_result"
    }
   ],
   "source": [
    "(not False) or (not True)"
   ]
  },
  {
   "cell_type": "code",
   "execution_count": 27,
   "id": "7c778946",
   "metadata": {},
   "outputs": [],
   "source": [
    "# Q5. What are the six comparison operators?\n",
    "# Ans5. (a) less than (<)\n",
    "#       (b) less than or equal to (<=)\n",
    "#       (c) greater than (>)\n",
    "#       (d) greater than or equal to (>=)\n",
    "#        (e) equal to (=)\n",
    "#        (f) not equal to (!=)"
   ]
  },
  {
   "cell_type": "code",
   "execution_count": 28,
   "id": "e4d1c7c9",
   "metadata": {},
   "outputs": [],
   "source": [
    "#Q6. How do you tell the difference between the equal to and assignment operators? Describe a condition and when you wold use one.\n",
    "\n",
    "#Ans6.  The \"=\" is the assignment operator and is used to assign the values on R.H.S. of the operator to the variable on L.H.S.\n",
    "#       The \"==\" is the comparison operator used to check whether two expressions on both sided are equal or not.\n",
    "#       For Example:"
   ]
  },
  {
   "cell_type": "code",
   "execution_count": 31,
   "id": "806d4fac",
   "metadata": {},
   "outputs": [],
   "source": [
    "# to add 'b=10' to value of 'a=30' then we can use assign operator as\n",
    "a=30\n",
    "a += 10"
   ]
  },
  {
   "cell_type": "code",
   "execution_count": 32,
   "id": "d7452d14",
   "metadata": {},
   "outputs": [
    {
     "data": {
      "text/plain": [
       "40"
      ]
     },
     "execution_count": 32,
     "metadata": {},
     "output_type": "execute_result"
    }
   ],
   "source": [
    "a"
   ]
  },
  {
   "cell_type": "code",
   "execution_count": 33,
   "id": "c5ec03da",
   "metadata": {},
   "outputs": [
    {
     "data": {
      "text/plain": [
       "True"
      ]
     },
     "execution_count": 33,
     "metadata": {},
     "output_type": "execute_result"
    }
   ],
   "source": [
    "# to check whether \"a=40\" is equal to \"b=40\" we can use equal operator as\n",
    "a= 40\n",
    "b= 40\n",
    "a == b"
   ]
  },
  {
   "cell_type": "code",
   "execution_count": 1,
   "id": "acf7fb42",
   "metadata": {},
   "outputs": [],
   "source": [
    "#Q7. Identify three blocks in these code:\n",
    "#  spam = 0\n",
    "#  if spam == 10:\n",
    "#  print('eggs')\n",
    "#  if spam > 5:\n",
    "#  print('bacon')\n",
    "#  else:\n",
    "#  print('ham')\n",
    "#  print('spam')\n",
    "#  print('spam')\n",
    "\n",
    "#Ans7. given below"
   ]
  },
  {
   "cell_type": "code",
   "execution_count": 2,
   "id": "5a0b2356",
   "metadata": {},
   "outputs": [
    {
     "name": "stdout",
     "output_type": "stream",
     "text": [
      "ham\n"
     ]
    }
   ],
   "source": [
    "spam = 0\n",
    "if spam == 10:\n",
    "    print('eggs')  #this one is the first block\n",
    "elif spam > 5:\n",
    "    print('bacon')  #this one is the second block\n",
    "else:\n",
    "    print('ham')    #this one is the third block"
   ]
  },
  {
   "cell_type": "code",
   "execution_count": 3,
   "id": "809e9082",
   "metadata": {},
   "outputs": [],
   "source": [
    "#Q8. Write code that prints Hello if 1 is stored in spam , prints Howdy if 2 is stored in spam,and prints Greetings! if anything\n",
    "#     else is stored in spam."
   ]
  },
  {
   "cell_type": "code",
   "execution_count": 4,
   "id": "48fb5ec3",
   "metadata": {},
   "outputs": [
    {
     "name": "stdout",
     "output_type": "stream",
     "text": [
      "Hello\n"
     ]
    }
   ],
   "source": [
    "#Ans8. \n",
    "\n",
    "spam = [1,2,3,'sona']\n",
    "if 1 in spam:\n",
    "    print('Hello')\n",
    "elif 2 in spam:\n",
    "    print('Howdy')\n",
    "else:\n",
    "    print('Greetings!')"
   ]
  },
  {
   "cell_type": "code",
   "execution_count": 5,
   "id": "161a07b9",
   "metadata": {},
   "outputs": [],
   "source": [
    "#Q9. If your programme is stuck in an endless loop,what keys you'll press?\n",
    "\n",
    "#Ans9. Ctrl + C"
   ]
  },
  {
   "cell_type": "code",
   "execution_count": 1,
   "id": "9975147e",
   "metadata": {},
   "outputs": [],
   "source": [
    "#Q10. How can you tell the the difference between break and continue?\n",
    "\n",
    "#Ans10. Break statement stops the loop in which the statement is placed whereas Continue statement skips a single iteration \n",
    "#       in a loop.\n"
   ]
  },
  {
   "cell_type": "code",
   "execution_count": 7,
   "id": "9cba53e3",
   "metadata": {},
   "outputs": [
    {
     "name": "stdout",
     "output_type": "stream",
     "text": [
      "The loop with 'break' produces output as:\n",
      "1\n",
      "2\n",
      "The loop with'continue'produces output as:\n",
      "1\n",
      "2\n",
      "4\n",
      "5\n",
      "7\n",
      "8\n",
      "10\n"
     ]
    }
   ],
   "source": [
    "#For Example:\n",
    "print(\"The loop with 'break' produces output as:\")\n",
    "for i in range (1,11):\n",
    "    if i%3 ==0 :\n",
    "        break\n",
    "    else:\n",
    "        print(i)\n",
    "print(\"The loop with'continue'produces output as:\")\n",
    "for i in range(1,11):\n",
    "    if i%3 == 0:\n",
    "        continue\n",
    "    else:\n",
    "        print(i)"
   ]
  },
  {
   "cell_type": "code",
   "execution_count": 8,
   "id": "db665c9b",
   "metadata": {},
   "outputs": [],
   "source": [
    "#Q11. In a for loop, what is the difference between range(10),range(0,10),and range(0,10,1)?\n",
    "#Ans11."
   ]
  },
  {
   "cell_type": "code",
   "execution_count": 3,
   "id": "765ca56f",
   "metadata": {},
   "outputs": [
    {
     "name": "stdout",
     "output_type": "stream",
     "text": [
      "0\n",
      "1\n",
      "2\n",
      "3\n",
      "4\n",
      "5\n",
      "6\n",
      "7\n",
      "8\n",
      "9\n"
     ]
    }
   ],
   "source": [
    "for i in range(10):\n",
    "    print(i)"
   ]
  },
  {
   "cell_type": "code",
   "execution_count": 4,
   "id": "f01f23e0",
   "metadata": {},
   "outputs": [
    {
     "name": "stdout",
     "output_type": "stream",
     "text": [
      "0\n",
      "1\n",
      "2\n",
      "3\n",
      "4\n",
      "5\n",
      "6\n",
      "7\n",
      "8\n",
      "9\n"
     ]
    }
   ],
   "source": [
    "for i in range(0,10):\n",
    "    print(i)"
   ]
  },
  {
   "cell_type": "code",
   "execution_count": 5,
   "id": "68b5b21d",
   "metadata": {},
   "outputs": [
    {
     "name": "stdout",
     "output_type": "stream",
     "text": [
      "0\n",
      "1\n",
      "2\n",
      "3\n",
      "4\n",
      "5\n",
      "6\n",
      "7\n",
      "8\n",
      "9\n"
     ]
    }
   ],
   "source": [
    "for i in range(0,10,1):\n",
    "    print(i)"
   ]
  },
  {
   "cell_type": "code",
   "execution_count": 6,
   "id": "d6b59da5",
   "metadata": {},
   "outputs": [],
   "source": [
    "#After running code we see that there is not any difference in output"
   ]
  },
  {
   "cell_type": "code",
   "execution_count": 7,
   "id": "7107f879",
   "metadata": {},
   "outputs": [],
   "source": [
    "#Q12. Write a short programme that prints the numbers 1 to 10 using a for loop.Then write an equivalent programm that prints\n",
    "#     the number 1 to 10 using a while loop."
   ]
  },
  {
   "cell_type": "code",
   "execution_count": 9,
   "id": "c19dda42",
   "metadata": {},
   "outputs": [
    {
     "name": "stdout",
     "output_type": "stream",
     "text": [
      "1\n",
      "2\n",
      "3\n",
      "4\n",
      "5\n",
      "6\n",
      "7\n",
      "8\n",
      "9\n",
      "10\n"
     ]
    }
   ],
   "source": [
    "#Ans12. \n",
    "for i in range(10):\n",
    "    print(i+1)"
   ]
  },
  {
   "cell_type": "code",
   "execution_count": null,
   "id": "087a1ab4",
   "metadata": {},
   "outputs": [],
   "source": [
    "#while loop"
   ]
  },
  {
   "cell_type": "code",
   "execution_count": 1,
   "id": "bcb17692",
   "metadata": {},
   "outputs": [
    {
     "name": "stdout",
     "output_type": "stream",
     "text": [
      "1\n",
      "2\n",
      "3\n",
      "4\n",
      "5\n",
      "6\n",
      "7\n",
      "8\n",
      "9\n",
      "10\n"
     ]
    }
   ],
   "source": [
    "i=1\n",
    "\n",
    "while i<=10:\n",
    "    print(i)\n",
    "    i=i+1"
   ]
  },
  {
   "cell_type": "code",
   "execution_count": null,
   "id": "10072d06",
   "metadata": {},
   "outputs": [],
   "source": [
    "#Q13. If you had a function bacon() inside a module named spam, how would you call it after importing spam?\n",
    "\n",
    "#Ans13. spam.bacon()"
   ]
  },
  {
   "cell_type": "code",
   "execution_count": null,
   "id": "d9854f64",
   "metadata": {},
   "outputs": [],
   "source": []
  }
 ],
 "metadata": {
  "kernelspec": {
   "display_name": "Python 3 (ipykernel)",
   "language": "python",
   "name": "python3"
  },
  "language_info": {
   "codemirror_mode": {
    "name": "ipython",
    "version": 3
   },
   "file_extension": ".py",
   "mimetype": "text/x-python",
   "name": "python",
   "nbconvert_exporter": "python",
   "pygments_lexer": "ipython3",
   "version": "3.9.12"
  }
 },
 "nbformat": 4,
 "nbformat_minor": 5
}
