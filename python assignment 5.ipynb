{
 "cells": [
  {
   "cell_type": "code",
   "execution_count": 1,
   "id": "ccdc8058",
   "metadata": {},
   "outputs": [
    {
     "data": {
      "text/plain": [
       "dict"
      ]
     },
     "execution_count": 1,
     "metadata": {},
     "output_type": "execute_result"
    }
   ],
   "source": [
    "#Q1. What doess an empty dictionary's code look like?\n",
    "\n",
    "#Ans1. \n",
    "d = {}\n",
    "type(d)"
   ]
  },
  {
   "cell_type": "code",
   "execution_count": 2,
   "id": "bb8c10c3",
   "metadata": {},
   "outputs": [],
   "source": [
    "#Q2. What is the value of a dictionary value with the key 'foo' and the value 42?\n",
    "\n",
    "#Ans2. "
   ]
  },
  {
   "cell_type": "code",
   "execution_count": 3,
   "id": "c69e97c3",
   "metadata": {},
   "outputs": [
    {
     "data": {
      "text/plain": [
       "'42'"
      ]
     },
     "execution_count": 3,
     "metadata": {},
     "output_type": "execute_result"
    }
   ],
   "source": [
    "d = {\"foo\":\"42\"}\n",
    "d[\"foo\"]"
   ]
  },
  {
   "cell_type": "code",
   "execution_count": 4,
   "id": "270c6f0b",
   "metadata": {},
   "outputs": [],
   "source": [
    "#Q3. What is the most significant distinction between a dictionary and a list?\n",
    "\n",
    "#Ans3. In list, the indices of values are basically start from 0 whreas in dictionary, the keys present in it can easily be of \n",
    "#       any data. or the items stored in dictionary are unordered , while the items in list are ordered "
   ]
  },
  {
   "cell_type": "code",
   "execution_count": 1,
   "id": "37c800ae",
   "metadata": {},
   "outputs": [],
   "source": [
    "#Q4. What happens if you try to access spam['foo'] if spam is {'bar':100}?\n",
    "\n",
    "#Ans4. "
   ]
  },
  {
   "cell_type": "code",
   "execution_count": 2,
   "id": "0b1466b7",
   "metadata": {},
   "outputs": [],
   "source": [
    "#we get a key error"
   ]
  },
  {
   "cell_type": "code",
   "execution_count": 3,
   "id": "7114ee8d",
   "metadata": {
    "collapsed": true
   },
   "outputs": [
    {
     "data": {
      "text/plain": [
       "{'bar': 100, 'foo': 'xyz'}"
      ]
     },
     "execution_count": 3,
     "metadata": {},
     "output_type": "execute_result"
    }
   ],
   "source": []
  },
  {
   "cell_type": "code",
   "execution_count": 4,
   "id": "c0dd39a7",
   "metadata": {},
   "outputs": [],
   "source": [
    "#Q5. If a dictionary is stored in spam , what is the difference between the expressions 'cat' in spam and 'cat' in spam.keys()?\n",
    "\n",
    "#Ans5. there is no difference the operator checks whether a value exists as a key in dictionary"
   ]
  },
  {
   "cell_type": "code",
   "execution_count": 5,
   "id": "8b344df2",
   "metadata": {},
   "outputs": [
    {
     "data": {
      "text/plain": [
       "dict_keys(['key1'])"
      ]
     },
     "execution_count": 5,
     "metadata": {},
     "output_type": "execute_result"
    }
   ],
   "source": [
    "spam = {'key1':'cat'}\n",
    "spam.keys()"
   ]
  },
  {
   "cell_type": "code",
   "execution_count": 7,
   "id": "9387c28f",
   "metadata": {},
   "outputs": [
    {
     "data": {
      "text/plain": [
       "'cat'"
      ]
     },
     "execution_count": 7,
     "metadata": {},
     "output_type": "execute_result"
    }
   ],
   "source": [
    "spam = {'key1':'cat'}\n",
    "spam['key1']"
   ]
  },
  {
   "cell_type": "code",
   "execution_count": 8,
   "id": "ac2806eb",
   "metadata": {},
   "outputs": [],
   "source": [
    "#Q6. If a dictionary is stored in spam , what is the difference between the expressions 'cat' in spam and 'cat' in spam.values()?\n",
    "#Ans6."
   ]
  },
  {
   "cell_type": "code",
   "execution_count": 9,
   "id": "85d64ea0",
   "metadata": {},
   "outputs": [
    {
     "data": {
      "text/plain": [
       "'cat'"
      ]
     },
     "execution_count": 9,
     "metadata": {},
     "output_type": "execute_result"
    }
   ],
   "source": [
    "spam = {'key1':'cat'}\n",
    "spam['key1']        #'cat' in spam checks whether there is a 'cat' key in dictionary"
   ]
  },
  {
   "cell_type": "code",
   "execution_count": 10,
   "id": "c66cca2c",
   "metadata": {},
   "outputs": [
    {
     "data": {
      "text/plain": [
       "dict_values(['cat'])"
      ]
     },
     "execution_count": 10,
     "metadata": {},
     "output_type": "execute_result"
    }
   ],
   "source": [
    "spam = {'key1':'cat'}\n",
    "spam.values()"
   ]
  },
  {
   "cell_type": "code",
   "execution_count": 11,
   "id": "e47cd573",
   "metadata": {},
   "outputs": [],
   "source": [
    "#Q7. What is a shortcut for the following code?\n",
    "# if 'color' not in spam:\n",
    "# spam['color']='black'"
   ]
  },
  {
   "cell_type": "code",
   "execution_count": 12,
   "id": "0a070017",
   "metadata": {},
   "outputs": [
    {
     "data": {
      "text/plain": [
       "'black'"
      ]
     },
     "execution_count": 12,
     "metadata": {},
     "output_type": "execute_result"
    }
   ],
   "source": [
    "spam.setdefault('color','black')"
   ]
  },
  {
   "cell_type": "code",
   "execution_count": 13,
   "id": "cbc1ffe6",
   "metadata": {},
   "outputs": [],
   "source": [
    "#Q8. How do you \"preety print\" dictionary values using which module and function?\n",
    "\n",
    "#Ans8. pprint.pprint()"
   ]
  }
 ],
 "metadata": {
  "kernelspec": {
   "display_name": "Python 3 (ipykernel)",
   "language": "python",
   "name": "python3"
  },
  "language_info": {
   "codemirror_mode": {
    "name": "ipython",
    "version": 3
   },
   "file_extension": ".py",
   "mimetype": "text/x-python",
   "name": "python",
   "nbconvert_exporter": "python",
   "pygments_lexer": "ipython3",
   "version": "3.9.12"
  }
 },
 "nbformat": 4,
 "nbformat_minor": 5
}
